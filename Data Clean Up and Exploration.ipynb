{
 "cells": [
  {
   "cell_type": "code",
   "execution_count": null,
   "id": "c5fd08fc",
   "metadata": {},
   "outputs": [],
   "source": [
    "# define the ISO 8601 duration to seconds converter\n",
    "def ISO8601toSeconds(inputStr):\n",
    "    timeStr = inputStr.split(\"T\")\n",
    "    seconds = 0\n",
    "    if \"H\" in timeStr[1]:\n",
    "        timeStr = timeStr[1].split(\"H\")\n",
    "        seconds = seconds + 60 * 60 * int(timeStr[0])\n",
    "    if \"M\" in timeStr[1]:\n",
    "        timeStr = timeStr[1].split(\"M\")\n",
    "        seconds = seconds + 60 * int(timeStr[0])\n",
    "    if \"S\" in timeStr[1]:\n",
    "        timeStr = timeStr[1].split(\"S\")\n",
    "        seconds = seconds + int(timeStr[0])\n",
    "    return seconds"
   ]
  },
  {
   "cell_type": "code",
   "execution_count": null,
   "id": "41dd8b98",
   "metadata": {},
   "outputs": [],
   "source": [
    "#Import Dependencies\n",
    "import pandas as pd\n",
    "import matplotlib.pyplot as plt\n",
    "import numpy as np\n",
    "import scipy.stats as st\n",
    "import requests\n",
    "import json\n",
    "from config import gkey"
   ]
  },
  {
   "cell_type": "code",
   "execution_count": null,
   "id": "1e1462af",
   "metadata": {},
   "outputs": [],
   "source": [
    "#Import and read Csv file\n",
    "csv_path = \"Resources/superbowl-ads.csv\"\n",
    "\n",
    "ads_df = pd.read_csv(csv_path)\n",
    "ads_df.head()"
   ]
  },
  {
   "cell_type": "code",
   "execution_count": null,
   "id": "bcd3b543",
   "metadata": {},
   "outputs": [],
   "source": [
    "# removed column of superbowl ad website data\n",
    "ads_reduced_df = ads_df[[\"year\", \"brand\", \"youtube_url\", \"funny\", \"show_product_quickly\", \"patriotic\", \"celebrity\", \n",
    "                         \"danger\", \"animals\", \"use_sex\"]]\n",
    "ads_reduced_df.head()"
   ]
  },
  {
   "cell_type": "code",
   "execution_count": null,
   "id": "570890e9",
   "metadata": {},
   "outputs": [],
   "source": [
    "# gave columns to better names\n",
    "ads_renamed_df = ads_reduced_df.rename(columns={\"year\":\"Year\", \"brand\":\"Brand\", \"youtube_url\":\"YouTube URL\", \n",
    "                                                \"funny\":\"Funny\", \"show_product_quickly\":\"Shows Product Quickly\",\n",
    "                                                \"patriotic\":\"Patriotic\",\"celebrity\":\"Celebrity\", \"danger\":\"Danger\",\n",
    "                                                \"animals\": \"Animals\", \"use_sex\":\"Use Sex\"})\n",
    "ads_renamed_df.head()"
   ]
  },
  {
   "cell_type": "code",
   "execution_count": null,
   "id": "2d456a57",
   "metadata": {},
   "outputs": [],
   "source": [
    "# remove all rows that didn't contain a YouTube URL\n",
    "ads_clean_df = ads_renamed_df.dropna(how='any')\n",
    "ads_clean_df.head()"
   ]
  },
  {
   "cell_type": "code",
   "execution_count": null,
   "id": "6ad719ac",
   "metadata": {},
   "outputs": [],
   "source": [
    "# define the base URL for API requests\n",
    "base_url = \"https://www.googleapis.com/youtube/v3/videos\"\n",
    "\n",
    "# declare the api response lists\n",
    "viewCounts = []\n",
    "durations = []\n",
    "\n",
    "# iterate through the YouTube URLs\n",
    "for videoURL in ads_clean_df[\"YouTube URL\"]:\n",
    "    \n",
    "    # extract the video's ID\n",
    "    videoID = videoURL.split(\"=\")[1]\n",
    "    \n",
    "    # define the request parameters\n",
    "    parameters = {\n",
    "                \"part\": \"statistics,contentDetails\",\n",
    "                \"id\": videoID,\n",
    "                \"key\": gkey}\n",
    "    \n",
    "    # perform the API request\n",
    "    response_json = requests.get(base_url, params = parameters).json()\n",
    "    \n",
    "    # check if the API response contains a video resource\n",
    "    if len(response_json[\"items\"]) > 0:\n",
    "        viewCounts.append(int(response_json[\"items\"][0][\"statistics\"][\"viewCount\"]))\n",
    "        durations.append(ISO8601toSeconds(response_json[\"items\"][0][\"contentDetails\"][\"duration\"]))\n",
    "    else:\n",
    "        viewCounts.append(\"empty\")\n",
    "        durations.append(\"empty\")"
   ]
  },
  {
   "cell_type": "code",
   "execution_count": null,
   "id": "34b36bb8",
   "metadata": {},
   "outputs": [],
   "source": [
    "# create the new DataFrame\n",
    "final_df = pd.DataFrame({\n",
    "                    \"Year\": ads_clean_df[\"Year\"],\n",
    "                    \"Brand\": ads_clean_df[\"Brand\"],\n",
    "                    \"YouTube URL\": ads_clean_df[\"YouTube URL\"],\n",
    "                    \"Funny\": ads_clean_df[\"Funny\"],\n",
    "                    \"Shows Product Quickly\": ads_clean_df[\"Shows Product Quickly\"],\n",
    "                    \"Patriotic\": ads_clean_df[\"Patriotic\"],\n",
    "                    \"Celebrity\": ads_clean_df[\"Celebrity\"],\n",
    "                    \"Danger\": ads_clean_df[\"Danger\"],\n",
    "                    \"Animals\": ads_clean_df[\"Animals\"],\n",
    "                    \"Use Sex\": ads_clean_df[\"Use Sex\"],\n",
    "                    \"View Counts\": viewCounts,\n",
    "                    \"Duration (seconds)\": durations})"
   ]
  },
  {
   "cell_type": "code",
   "execution_count": null,
   "id": "61104982",
   "metadata": {},
   "outputs": [],
   "source": [
    "# remove rows that don't contain view counts/durations\n",
    "final_df = final_df.loc[(final_df[\"View Counts\"] != \"empty\") & (final_df[\"Duration (seconds)\"] != \"empty\")]\n",
    "\n",
    "# save the DataFrame to file\n",
    "final_df.to_csv(\"Resources/Cleaned Data.csv\")\n",
    "\n",
    "# preview the DataFrame\n",
    "final_df.head()"
   ]
  }
 ],
 "metadata": {
  "kernelspec": {
   "display_name": "Python 3 (ipykernel)",
   "language": "python",
   "name": "python3"
  },
  "language_info": {
   "codemirror_mode": {
    "name": "ipython",
    "version": 3
   },
   "file_extension": ".py",
   "mimetype": "text/x-python",
   "name": "python",
   "nbconvert_exporter": "python",
   "pygments_lexer": "ipython3",
   "version": "3.8.13"
  }
 },
 "nbformat": 4,
 "nbformat_minor": 5
}
