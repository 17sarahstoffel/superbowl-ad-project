{
 "cells": [
  {
   "cell_type": "code",
   "execution_count": null,
   "id": "41dd8b98",
   "metadata": {},
   "outputs": [],
   "source": [
    "#Import Dependencies\n",
    "import pandas as pd\n",
    "import matplotlib.pyplot as plt\n",
    "import numpy as np\n",
    "import scipy.stats as st\n",
    "import requests\n",
    "import json\n",
    "from config import gkey"
   ]
  },
  {
   "cell_type": "code",
   "execution_count": null,
   "id": "1e1462af",
   "metadata": {},
   "outputs": [],
   "source": [
    "#Import and read Csv file\n",
    "csv_path = \"superbowl-ads.csv\"\n",
    "\n",
    "ads_df = pd.read_csv(csv_path)\n",
    "ads_df.head()"
   ]
  },
  {
   "cell_type": "code",
   "execution_count": null,
   "id": "bcd3b543",
   "metadata": {},
   "outputs": [],
   "source": [
    "ads_reduced_df = ads_df[[\"year\", \"brand\", \"youtube_url\", \"funny\", \"show_product_quickly\", \"patriotic\", \"celebrity\", \n",
    "                         \"danger\", \"animals\", \"use_sex\"]]\n",
    "ads_reduced_df.head()"
   ]
  },
  {
   "cell_type": "code",
   "execution_count": null,
   "id": "570890e9",
   "metadata": {},
   "outputs": [],
   "source": [
    "ads_renamed_df = ads_reduced_df.rename(columns={\"year\":\"Year\", \"brand\":\"Brand\", \"youtube_url\":\"YouTube URL\", \n",
    "                                                \"funny\":\"Funny\", \"show_product_quickly\":\"Shows Product Quickly\",\n",
    "                                                \"patriotic\":\"Patriotic\",\"celebrity\":\"Celebrity\", \"danger\":\"Danger\",\n",
    "                                                \"animals\": \"Animals\", \"use_sex\":\"Use Sex\"})\n",
    "ads_renamed_df.head()"
   ]
  },
  {
   "cell_type": "code",
   "execution_count": null,
   "id": "2d456a57",
   "metadata": {},
   "outputs": [],
   "source": [
    "ads_clean_df = ads_renamed_df.dropna(how='any')\n",
    "ads_clean_df.head()"
   ]
  },
  {
   "cell_type": "code",
   "execution_count": null,
   "id": "6ad719ac",
   "metadata": {},
   "outputs": [],
   "source": []
  }
 ],
 "metadata": {
  "kernelspec": {
   "display_name": "Python 3 (ipykernel)",
   "language": "python",
   "name": "python3"
  },
  "language_info": {
   "codemirror_mode": {
    "name": "ipython",
    "version": 3
   },
   "file_extension": ".py",
   "mimetype": "text/x-python",
   "name": "python",
   "nbconvert_exporter": "python",
   "pygments_lexer": "ipython3",
   "version": "3.8.13"
  }
 },
 "nbformat": 4,
 "nbformat_minor": 5
}
