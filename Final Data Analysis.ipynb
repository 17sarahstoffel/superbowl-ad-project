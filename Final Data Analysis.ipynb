{
 "cells": [
  {
   "cell_type": "code",
   "execution_count": null,
   "id": "f96cf355",
   "metadata": {},
   "outputs": [],
   "source": [
    "# import dependencies\n",
    "import pandas as pd\n",
    "import matplotlib.pyplot as plt\n",
    "import numpy as np\n",
    "import scipy.stats as st"
   ]
  },
  {
   "cell_type": "code",
   "execution_count": null,
   "id": "47093d95",
   "metadata": {},
   "outputs": [],
   "source": [
    "# import resources\n",
    "main_df = pd.read_csv(\"Resources/Cleaned Data.csv\")\n",
    "main_df.head()"
   ]
  },
  {
   "cell_type": "code",
   "execution_count": null,
   "id": "7ca508e7",
   "metadata": {},
   "outputs": [],
   "source": [
    "\n",
    "ad_tag_view_counts_df = pd.read_csv(\"Resources/ad_tag_view_counts.csv\")\n",
    "ad_tag_counts_df = pd.read_csv(\"Resources/ad_tag_counts.csv\")\n",
    "\n",
    "ad_tag_view_counts_df"
   ]
  },
  {
   "cell_type": "markdown",
   "id": "4bbc45b6",
   "metadata": {},
   "source": [
    "# Bar Charts"
   ]
  },
  {
   "cell_type": "code",
   "execution_count": null,
   "id": "b683f698",
   "metadata": {},
   "outputs": [],
   "source": [
    "# create one bar chart to get the total number of ads by type\n",
    "plt.figure(figsize=(15,7))\n",
    "plt.bar(ad_tag_counts_df.keys(), ad_tag_counts_df.iloc[0, :] , color=\"blue\", align=\"center\", width=0.5)\n",
    "plt.xticks([value for value in ad_tag_counts_df.keys()], rotation =\"vertical\", fontsize=12)\n",
    "plt.title(\"Total number of ads by type\", fontsize=18)\n",
    "plt.xlabel(\"Type\", fontsize=12)\n",
    "plt.ylabel(\"Total number of ads\", fontsize=12)\n",
    "plt.show()"
   ]
  },
  {
   "cell_type": "code",
   "execution_count": null,
   "id": "dcc2b355",
   "metadata": {},
   "outputs": [],
   "source": [
    "# create one bar chart to get the total number of views by ads type\n",
    "plt.figure(figsize=(15,7))\n",
    "plt.bar(ad_tag_view_counts_df.keys(), ad_tag_view_counts_df.iloc[0, :] , color=\"blue\", align=\"center\", width=0.5)\n",
    "plt.xticks([value for value in ad_tag_view_counts_df.keys()], rotation =\"vertical\", fontsize=12)\n",
    "plt.title(\"Total number of views by ads type\", fontsize=18)\n",
    "plt.xlabel(\"Type\", fontsize=12)\n",
    "plt.ylabel(\"Total number of views by ads type\", fontsize=12)\n",
    "plt.show()"
   ]
  },
  {
   "cell_type": "markdown",
   "id": "eeb39bad",
   "metadata": {},
   "source": [
    "## Pie Charts \n"
   ]
  },
  {
   "cell_type": "code",
   "execution_count": null,
   "id": "d4270640",
   "metadata": {},
   "outputs": [],
   "source": [
    "# count of funny vs not funny by type\n",
    "#funny \n",
    "funny_ads=len(main_df.loc[main_df[\"Funny\"] == True])\n",
    "#not funny\n",
    "not_funny_ads=len(main_df.loc[main_df[\"Funny\"] == False])"
   ]
  },
  {
   "cell_type": "code",
   "execution_count": null,
   "id": "c0d4a59e",
   "metadata": {},
   "outputs": [],
   "source": [
    "# Pie chart showing funny vs not funny by type\n",
    "\n",
    "plt.figure(figsize=(15, 6))\n",
    "#Labels for each slice of the pie chart\n",
    "labels = [\"Funny\", \"Not Funny\"]\n",
    "\n",
    "#Values representing the number of funny and not funny ad videos\n",
    "sizes = [funny_ads, not_funny_ads]\n",
    "\n",
    "#colors for each slice of the pie chart\n",
    "colors = [\"yellow\", \"lightskyblue\"]\n",
    "\n",
    "#funny separated from not funny\n",
    "explode = [0.1, 0]\n",
    "#create pie chart from values\n",
    "plt.pie(sizes, explode=explode, labels=labels, colors=colors,\n",
    "         autopct=\"%1.1f%%\", shadow=True, startangle=90)\n",
    "\n",
    "plt.title(\"Number of Ads Tagged As Funny\")\n",
    "\n",
    "plt.show()\n",
    "\n",
    "\n"
   ]
  },
  {
   "cell_type": "code",
   "execution_count": null,
   "id": "2996daee",
   "metadata": {},
   "outputs": [],
   "source": [
    "#count of views by funny and not funny ads\n",
    "funny_views=main_df.loc[main_df[\"Funny\"] == True] [\"View Counts\"].sum()\n",
    "\n",
    "not_funny_views=main_df.loc[main_df[\"Funny\"] == False] [\"View Counts\"].sum()\n",
    "\n",
    "# pie chart of funny vs not funny by viewcount\n",
    "\n",
    "\n",
    "plt.figure(figsize=(15,6))\n",
    "#Labels for each slice of the pie chart\n",
    "labels = [\"Funny\", \"Not Funny\"]\n",
    "\n",
    "#Values representing the viewcounts of funny and not funny ad videos\n",
    "sizes = [funny_views, not_funny_views]\n",
    "\n",
    "#colors for each slice of the pie chart\n",
    "colors = [\"green\", \"red\"]\n",
    "\n",
    "#funny separated from not funny\n",
    "explode = [0.1, 0]\n",
    "#create pie chart from values\n",
    "plt.pie(sizes, explode=explode, labels=labels, colors=colors,\n",
    "         autopct=\"%1.1f%%\", shadow=True, startangle=90)\n",
    "\n",
    "plt.title(\"Funny and Not Funny Ads by View Count\")\n",
    "plt.show()\n",
    "\n",
    "\n",
    "\n",
    "\n"
   ]
  },
  {
   "cell_type": "markdown",
   "id": "45548eb5",
   "metadata": {},
   "source": [
    "# Hypothesis Test\n",
    "\n",
    "###### Hypothesis\n",
    "Ads that contain the tag 'Funny' would receive more views on YouTube.\n",
    "\n",
    "###### Null Hypothesis\n",
    "There is no statistically significant difference in view counts between ads that contain the 'Funny' tag and those that do not contain the 'Funny' tag.\n",
    "\n",
    "###### Results\n",
    "Because the calculated P-Value is exactly zero, we reject the null hypothesis."
   ]
  },
  {
   "cell_type": "code",
   "execution_count": null,
   "id": "73e86b3f",
   "metadata": {},
   "outputs": [],
   "source": [
    "# extract the relevant data from the main DataFrame\n",
    "funnySeries = main_df.loc[main_df[\"Funny\"] == True, :][\"View Counts\"]\n",
    "unfunnySeries = main_df.loc[main_df[\"Funny\"] == False, :][\"View Counts\"]"
   ]
  },
  {
   "cell_type": "code",
   "execution_count": null,
   "id": "6ab0811d",
   "metadata": {},
   "outputs": [],
   "source": [
    "# construct the hypothesis test series\n",
    "obsSeries = pd.Series(data = [sum(funnySeries), sum(unfunnySeries)], name = \"observed\")\n",
    "expSeries = pd.Series(data = [sum(obsSeries) / 2, sum(obsSeries) / 2], name = \"expected\")"
   ]
  },
  {
   "cell_type": "code",
   "execution_count": null,
   "id": "b3829a64",
   "metadata": {},
   "outputs": [],
   "source": [
    "# perform a Chi-Squared test because this is comparing categorical data\n",
    "pValue = st.chisquare(obsSeries, expSeries)[1]\n",
    "\n",
    "# display the p-value\n",
    "print(f\"P-Value = {pValue:,.4f}\")"
   ]
  },
  {
   "cell_type": "markdown",
   "id": "b1f0ec44",
   "metadata": {},
   "source": [
    "### Batch Hypothesis Tests"
   ]
  },
  {
   "cell_type": "code",
   "execution_count": null,
   "id": "4518ee19",
   "metadata": {},
   "outputs": [],
   "source": [
    "# construct list of ad categories\n",
    "categories = [\"Funny\", \"Shows Product Quickly\", \"Celebrity\", \"Danger\", \"Animals\", \"Use Sex\"]\n",
    "\n",
    "# declare the p-value lists\n",
    "chi_square_pvalues = []\n",
    "student_ttest_pvalues = []\n",
    "mannwhitneyu_pvalues = []\n",
    "kruskal_pvalues = []\n",
    "\n",
    "# declare the summary statistics lists\n",
    "maxTrue_list = []\n",
    "minTrue_list = []\n",
    "sumTrue_list = []\n",
    "meanTrue_list = []\n",
    "medianTrue_list = []\n",
    "maxFalse_list = []\n",
    "minFalse_list = []\n",
    "sumFalse_list = []\n",
    "meanFalse_list = []\n",
    "medianFalse_list = []\n",
    "\n",
    "# iterate through the ad categories\n",
    "for category in categories:\n",
    "    \n",
    "    # extract the series\n",
    "    whenTrue = main_df.loc[main_df[category] == True, :][\"View Counts\"]\n",
    "    whenFalse = main_df.loc[main_df[category] == False, :][\"View Counts\"]\n",
    "    \n",
    "    # construct the Chi Square observed series\n",
    "    observed = pd.Series(data = [sum(whenTrue), sum(whenFalse)], name = \"observed\")\n",
    "    expected = pd.Series(data = [sum(observed) / 2, sum(observed) / 2], name = \"expected\")\n",
    "    \n",
    "    # calculate the P-Value with a Chi Square Test\n",
    "    chi_square_pvalues.append(st.chisquare(observed, expected)[1])\n",
    "    \n",
    "    # calculate the P-Value with a Student T-Test\n",
    "    student_ttest_pvalues.append(st.ttest_ind(whenFalse, whenTrue)[1])\n",
    "    \n",
    "    # calculate the P-Value with a Mann-Whitney U Test\n",
    "    mannwhitneyu_pvalues.append(st.mannwhitneyu(whenTrue, whenFalse, alternative = \"less\")[1])\n",
    "    \n",
    "    # calculate the P-Value with a Kruskal-Wallis Test\n",
    "    kruskal_pvalues.append(st.kruskal(whenTrue, whenFalse)[1])\n",
    "    \n",
    "    # calculate the summary statistics\n",
    "    maxTrue_list.append(max(whenTrue))\n",
    "    minTrue_list.append(min(whenTrue))\n",
    "    sumTrue_list.append(sum(whenTrue))\n",
    "    meanTrue_list.append(whenTrue.mean())\n",
    "    medianTrue_list.append(whenTrue.median())\n",
    "    maxFalse_list.append(max(whenFalse))\n",
    "    minFalse_list.append(min(whenFalse))\n",
    "    sumFalse_list.append(sum(whenFalse))\n",
    "    meanFalse_list.append(whenFalse.mean())\n",
    "    medianFalse_list.append(whenFalse.median())"
   ]
  },
  {
   "cell_type": "code",
   "execution_count": null,
   "id": "db9c9ada",
   "metadata": {},
   "outputs": [],
   "source": [
    "# create a DataFrame from the results then transpose it\n",
    "pvalues_df = pd.DataFrame({\n",
    "                    \"Tag\": categories,\n",
    "                    \"Chi Square\": [f\"{member:,.4f}\" for member in chi_square_pvalues],\n",
    "                    \"Student T-Test\": [f\"{member:,.4f}\" for member in student_ttest_pvalues],\n",
    "                    \"Mann-Whitney U\": [f\"{member:,.4f}\" for member in mannwhitneyu_pvalues],\n",
    "                    \"Kruskal-Wallis\": [f\"{member:,.4f}\" for member in kruskal_pvalues],\n",
    "                    \"Max (True)\": [f\"{member:,.0f}\" for member in maxTrue_list],\n",
    "                    \"Max (False)\": [f\"{member:,.0f}\" for member in maxFalse_list],\n",
    "                    \"Min (True)\": [f\"{member:,.0f}\" for member in minTrue_list],\n",
    "                    \"Min (False)\": [f\"{member:,.0f}\" for member in minFalse_list],\n",
    "                    \"Sum (True)\": [f\"{member:,.0f}\" for member in sumTrue_list],\n",
    "                    \"Sum (False)\": [f\"{member:,.0f}\" for member in sumFalse_list],\n",
    "                    \"Mean (True)\": [f\"{member:,.0f}\" for member in meanTrue_list],\n",
    "                    \"Mean (False)\": [f\"{member:,.0f}\" for member in meanFalse_list],\n",
    "                    \"Median (True)\": [f\"{member:,.0f}\" for member in medianTrue_list],\n",
    "                    \"Median (False)\": [f\"{member:,.0f}\" for member in medianFalse_list]}).T\n",
    "\n",
    "# set the column headers to the tags\n",
    "pvalues_df.columns = pvalues_df.iloc[0, :]\n",
    "\n",
    "# remove the tags row\n",
    "pvalues_df = pvalues_df.iloc[1:, :]\n",
    "\n",
    "# display the DataFrame\n",
    "print(\"P-Values & Statistics for View Counts\")\n",
    "pvalues_df"
   ]
  },
  {
   "cell_type": "markdown",
   "id": "b21da0bf",
   "metadata": {},
   "source": [
    "# Scatter Plot of Length of SuperBowl Ads Over the Past 20 Years"
   ]
  },
  {
   "cell_type": "code",
   "execution_count": null,
   "id": "45b2ead0",
   "metadata": {},
   "outputs": [],
   "source": [
    "#scatter plot\n",
    "plt.scatter(main_df[\"Year\"], main_df[\"Duration (seconds)\"],)\n",
    "\n",
    "plt.xlabel(\"Year\")\n",
    "plt.ylabel(\"Length of Ad (seconds)\")\n",
    "plt.title(\"Length of SuperBowl Ads Over the Years\")\n",
    "plt.ylim(20,220)\n",
    "\n",
    "plt.xticks(np.arange(2000, 2021, step=1), rotation = 90)\n",
    "\n",
    "plt.show()"
   ]
  },
  {
   "cell_type": "markdown",
   "id": "88b6bcc0",
   "metadata": {},
   "source": [
    "# Regression Line to See the Trends of Length of SuperBowl Ads"
   ]
  },
  {
   "cell_type": "code",
   "execution_count": null,
   "id": "f0ae07bb",
   "metadata": {},
   "outputs": [],
   "source": [
    "#creating regression values\n",
    "(slope, intercept, rvalue, pvalue, stderr) = st.linregress(main_df[\"Year\"], main_df[\"Duration (seconds)\"])\n",
    "\n",
    "regress_value = main_df[\"Year\"] * slope + intercept\n",
    "\n",
    "#creating the linear regression equation\n",
    "line_eqn = \"y = \" + str(round(slope,2)) + \"x + \" + str(round(intercept,2))"
   ]
  },
  {
   "cell_type": "code",
   "execution_count": null,
   "id": "1e03fa64",
   "metadata": {},
   "outputs": [],
   "source": [
    "#scatter plot with regression line\n",
    "plt.scatter(main_df[\"Year\"], main_df[\"Duration (seconds)\"],)\n",
    "\n",
    "plt.plot(main_df[\"Year\"], regress_value, \"r-\")\n",
    "plt.annotate(line_eqn, (2000,130), fontsize= 15,  color = \"red\")\n",
    "\n",
    "plt.xlabel(\"Year\")\n",
    "plt.ylabel(\"Length of Ad (seconds)\")\n",
    "plt.title(\"Length of SuperBowl Ads Over the Years\")\n",
    "plt.ylim(20,220)\n",
    "\n",
    "plt.xticks(np.arange(2000, 2021, step=1), rotation = 90)\n",
    "\n",
    "plt.show()"
   ]
  },
  {
   "cell_type": "markdown",
   "id": "052bf514",
   "metadata": {},
   "source": [
    "# Checking for Outliers"
   ]
  },
  {
   "cell_type": "code",
   "execution_count": null,
   "id": "dfc25721",
   "metadata": {},
   "outputs": [],
   "source": [
    "#Finding the quartiles and IQR\n",
    "quartiles = main_df[\"Duration (seconds)\"].quantile([0.25, 0.5, 0.75])\n",
    "lower_quar = quartiles[.25]\n",
    "upper_quar = quartiles[0.75]\n",
    "iqr = upper_quar - lower_quar\n",
    "\n",
    "#Creating the bounds\n",
    "lower_bound = lower_quar - (1.5 * iqr)\n",
    "upper_bound = upper_quar + (1.5 * iqr)\n",
    "\n",
    "print(f'The lower quartile of duration of ads is: {lower_quar}.')\n",
    "print(f'The upper quartile of duration of ads is: {upper_quar}.')\n",
    "print(f'Values below {round(lower_bound,2)} could be outliers.')\n",
    "print(f'Values above {round(upper_bound,2)} could be outliers.')\n",
    "\n",
    "#creating a dataframe with the outliers\n",
    "outlier_lengths = main_df.loc[(main_df['Duration (seconds)'] < lower_bound) | (main_df['Duration (seconds)'] > upper_bound)]\n",
    "outlier_lengths"
   ]
  },
  {
   "cell_type": "markdown",
   "id": "98a43835",
   "metadata": {},
   "source": [
    "# Scatter Plot and Regression line without Outliers"
   ]
  },
  {
   "cell_type": "code",
   "execution_count": null,
   "id": "e50198f2",
   "metadata": {},
   "outputs": [],
   "source": [
    "#Creating a dataframe without outliers\n",
    "no_outliers = main_df.drop(labels = [0,14,27,79,100,189,197], axis=0)\n",
    "no_outliers.head()"
   ]
  },
  {
   "cell_type": "code",
   "execution_count": null,
   "id": "dcca763a",
   "metadata": {},
   "outputs": [],
   "source": [
    "#creating a scatter plot\n",
    "plt.scatter(no_outliers[\"Year\"], no_outliers[\"Duration (seconds)\"],)\n",
    "\n",
    "plt.xlabel(\"Year\")\n",
    "plt.ylabel(\"Length of Ad (seconds)\")\n",
    "plt.title(\"Length of SuperBowl Ads Over the Years\")\n",
    "plt.ylim(20,220)\n",
    "\n",
    "plt.xticks(np.arange(2000, 2021, step=1), rotation = 90)\n",
    "\n",
    "plt.show()"
   ]
  },
  {
   "cell_type": "code",
   "execution_count": null,
   "id": "2f8a3d1e",
   "metadata": {},
   "outputs": [],
   "source": [
    "#creating regression values\n",
    "(outlier_slope, outlier_intercept, outlier_rvalue, outlier_value, outlier_stderr) = st.linregress(\n",
    "    no_outliers[\"Year\"], no_outliers[\"Duration (seconds)\"])\n",
    "\n",
    "regress_value = no_outliers[\"Year\"] * outlier_slope + outlier_intercept\n",
    "\n",
    "#creating the linear regression equation\n",
    "line_eqn = \"y = \" + str(round(outlier_slope,2)) + \"x + \" + str(round(outlier_intercept,2))"
   ]
  },
  {
   "cell_type": "code",
   "execution_count": null,
   "id": "f905382e",
   "metadata": {},
   "outputs": [],
   "source": [
    "#scatter plot with regression line\n",
    "plt.scatter(no_outliers[\"Year\"], no_outliers[\"Duration (seconds)\"],)\n",
    "\n",
    "plt.plot(no_outliers[\"Year\"], regress_value, \"r-\")\n",
    "plt.annotate(line_eqn, (2000,125), fontsize= 15,  color = \"red\")\n",
    "\n",
    "plt.xlabel(\"Year\")\n",
    "plt.ylabel(\"Length of Ad (seconds)\")\n",
    "plt.title(\"Length of SuperBowl Ads Over the Years\")\n",
    "plt.ylim(20,220)\n",
    "\n",
    "plt.xticks(np.arange(2000, 2021, step=1), rotation = 90)\n",
    "\n",
    "plt.show()"
   ]
  },
  {
   "cell_type": "markdown",
   "id": "87f9b4ff",
   "metadata": {},
   "source": [
    "# Looking at the Data 10 Years at a Time"
   ]
  },
  {
   "cell_type": "code",
   "execution_count": null,
   "id": "cef01298",
   "metadata": {},
   "outputs": [],
   "source": [
    "by_years_df= main_df.sort_values(by=[\"Year\"])\n",
    "by_years_df.head()"
   ]
  },
  {
   "cell_type": "code",
   "execution_count": null,
   "id": "758f5b58",
   "metadata": {},
   "outputs": [],
   "source": [
    "#creating bins\n",
    "bins = [2000,2010,2020]\n",
    "\n",
    "group_names = [\"2000-2010\", \"2011-2020\"]\n",
    "\n",
    "by_years_df[\"Year Grouping\"]= pd.cut(by_years_df[\"Year\"], bins, labels = group_names, include_lowest= True)\n",
    "by_years_df.head()"
   ]
  },
  {
   "cell_type": "code",
   "execution_count": null,
   "id": "b1c677b5",
   "metadata": {},
   "outputs": [],
   "source": [
    "#creating a data frame for 200-2010 and creating a scatter plot\n",
    "years_to_2010 = by_years_df.loc[(by_years_df[\"Year Grouping\"] == \"2000-2010\"), :]\n",
    "\n",
    "\n",
    "plt.scatter(years_to_2010[\"Year\"], years_to_2010[\"Duration (seconds)\"],)\n",
    "\n",
    "plt.xlabel(\"Year\")\n",
    "plt.ylabel(\"Length of Ad (seconds)\")\n",
    "plt.title(\"Length of SuperBowl Ads From 2000 to 2010\")\n",
    "plt.ylim(20,225)\n",
    "\n",
    "plt.xticks(np.arange(2000, 2011, step=1), rotation = 90)\n",
    "\n",
    "plt.show()"
   ]
  },
  {
   "cell_type": "code",
   "execution_count": null,
   "id": "3b15ab4b",
   "metadata": {},
   "outputs": [],
   "source": [
    "#creating regression values\n",
    "(slope_2010, intercept_2010, rvalue_2010, pvalue_2010, stderr_2010) = st.linregress(\n",
    "    years_to_2010[\"Year\"], years_to_2010[\"Duration (seconds)\"])\n",
    "\n",
    "regress_value = years_to_2010[\"Year\"] * slope_2010 + intercept_2010\n"
   ]
  },
  {
   "cell_type": "code",
   "execution_count": null,
   "id": "ad3323f9",
   "metadata": {},
   "outputs": [],
   "source": [
    "#creating the linear regression equation\n",
    "line_eqn = \"y = \" + str(round(slope_2010,2)) + \"x + \" + str(round(intercept_2010,2))\n",
    "#creating a scatter plot with the regression line\n",
    "plt.scatter(years_to_2010[\"Year\"], years_to_2010[\"Duration (seconds)\"],)\n",
    "\n",
    "plt.plot(years_to_2010[\"Year\"], regress_value, \"r-\")\n",
    "plt.annotate(line_eqn, (2000,125), fontsize= 15,  color = \"red\")\n",
    "\n",
    "plt.xlabel(\"Year\")\n",
    "plt.ylabel(\"Length of Ad (seconds)\")\n",
    "plt.title(\"Length of SuperBowl Ads From 2000 to 2010\")\n",
    "plt.ylim(20,225)\n",
    "\n",
    "plt.xticks(np.arange(2000, 2011, step=1), rotation = 90)\n",
    "\n",
    "plt.show()"
   ]
  },
  {
   "cell_type": "code",
   "execution_count": null,
   "id": "db9aa843",
   "metadata": {},
   "outputs": [],
   "source": [
    "#creating a data frame for 200-2010 and creating a scatter plot\n",
    "years_from_2011 = by_years_df.loc[(by_years_df[\"Year Grouping\"] == \"2011-2020\"), :]\n",
    "\n",
    "\n",
    "plt.scatter(years_from_2011[\"Year\"], years_from_2011[\"Duration (seconds)\"],)\n",
    "\n",
    "plt.xlabel(\"Year\")\n",
    "plt.ylabel(\"Length of Ad (seconds)\")\n",
    "plt.title(\"Length of SuperBowl Ads From 2011 to 2020\")\n",
    "plt.ylim(20,225)\n",
    "\n",
    "plt.xticks(np.arange(2011, 2021, step=1), rotation = 90)\n",
    "\n",
    "plt.show()"
   ]
  },
  {
   "cell_type": "code",
   "execution_count": null,
   "id": "7c08f5f9",
   "metadata": {},
   "outputs": [],
   "source": [
    "#creating regression values\n",
    "(slope_2011, intercept_2011, rvalue_2011, pvalue_2011, stderr_2011) = st.linregress(\n",
    "    years_from_2011[\"Year\"], years_from_2011[\"Duration (seconds)\"])\n",
    "\n",
    "regress_value = years_from_2011[\"Year\"] * slope_2011 + intercept_2011\n",
    "\n",
    "#creating the linear regression equation\n",
    "line_eqn = \"y = \" + str(round(slope_2011,2)) + \"x + \" + str(round(intercept_2011,2))"
   ]
  },
  {
   "cell_type": "code",
   "execution_count": null,
   "id": "8f46dbc9",
   "metadata": {},
   "outputs": [],
   "source": [
    "#creating a scatter plot with the regression line\n",
    "plt.scatter(years_from_2011[\"Year\"], years_from_2011[\"Duration (seconds)\"],)\n",
    "\n",
    "plt.plot(years_from_2011[\"Year\"], regress_value, \"r-\")\n",
    "plt.annotate(line_eqn, (2011,150), fontsize= 15,  color = \"red\")\n",
    "\n",
    "plt.xlabel(\"Year\")\n",
    "plt.ylabel(\"Length of Ad (seconds)\")\n",
    "plt.title(\"Length of SuperBowl Ads From 2011 to 2020\")\n",
    "plt.ylim(20,225)\n",
    "\n",
    "plt.xticks(np.arange(2011, 2021, step=1), rotation = 90)\n",
    "\n",
    "plt.show()"
   ]
  }
 ],
 "metadata": {
  "kernelspec": {
   "display_name": "Python 3 (ipykernel)",
   "language": "python",
   "name": "python3"
  },
  "language_info": {
   "codemirror_mode": {
    "name": "ipython",
    "version": 3
   },
   "file_extension": ".py",
   "mimetype": "text/x-python",
   "name": "python",
   "nbconvert_exporter": "python",
   "pygments_lexer": "ipython3",
   "version": "3.8.13"
  }
 },
 "nbformat": 4,
 "nbformat_minor": 5
}
