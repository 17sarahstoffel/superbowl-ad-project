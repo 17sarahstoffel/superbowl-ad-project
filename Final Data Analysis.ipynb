{
 "cells": [
  {
   "cell_type": "code",
   "execution_count": null,
   "id": "f96cf355",
   "metadata": {},
   "outputs": [],
   "source": [
    "# import dependencies\n",
    "import pandas as pd\n",
    "import matplotlib.pyplot as plt\n",
    "import numpy as np\n",
    "import scipy.stats as st"
   ]
  },
  {
   "cell_type": "code",
   "execution_count": null,
   "id": "7ca508e7",
   "metadata": {},
   "outputs": [],
   "source": [
    "# import resources\n",
    "main_df = pd.read_csv(\"Resources/Cleaned Data.csv\")\n",
    "ad_tag_view_counts_df = pd.read_csv(\"Resources/ad_tag_view_counts.csv\")\n",
    "ad_tag_counts_df = pd.read_csv(\"Resources/ad_tag_counts.csv\")"
   ]
  },
  {
   "cell_type": "markdown",
   "id": "45548eb5",
   "metadata": {},
   "source": [
    "# Hypothesis Test\n",
    "\n",
    "###### Hypothesis\n",
    "Ads that contain the tag 'Funny' would receive more views on YouTube.\n",
    "\n",
    "###### Null Hypothesis\n",
    "There is no statistically significant difference in view counts between ads that contain the 'Funny' tag and those that do not contain the 'Funny' tag.\n",
    "\n",
    "###### Results\n",
    "Because the calculated P-Value is exactly zero, we reject the null hypothesis."
   ]
  },
  {
   "cell_type": "code",
   "execution_count": null,
   "id": "73e86b3f",
   "metadata": {},
   "outputs": [],
   "source": [
    "# extract the relevant data from the main DataFrame\n",
    "funnySeries = main_df.loc[main_df[\"Funny\"] == True, :][\"View Counts\"]\n",
    "unfunnySeries = main_df.loc[main_df[\"Funny\"] == False, :][\"View Counts\"]"
   ]
  },
  {
   "cell_type": "code",
   "execution_count": null,
   "id": "6ab0811d",
   "metadata": {},
   "outputs": [],
   "source": [
    "# calculate the expected value\n",
    "expValue = (sum(funnySeries) + sum(unfunnySeries)) / 2\n",
    "\n",
    "# construct the hypothesis test dataframe\n",
    "df0 = pd.DataFrame({\n",
    "                \"observed\": [sum(funnySeries), sum(unfunnySeries)],\n",
    "                \"expected\": [expValue, expValue]})"
   ]
  },
  {
   "cell_type": "code",
   "execution_count": null,
   "id": "b3829a64",
   "metadata": {},
   "outputs": [],
   "source": [
    "# perform a Chi-Squared test because this is comparing categorical data\n",
    "pValue = st.chisquare(df0[\"observed\"])[1]\n",
    "\n",
    "# display the p-value\n",
    "print(f\"P-Value = {pValue:,.10f}\")"
   ]
  },
  {
   "cell_type": "code",
   "execution_count": null,
   "id": "388d58f2",
   "metadata": {},
   "outputs": [],
   "source": []
  }
 ],
 "metadata": {
  "kernelspec": {
   "display_name": "Python 3 (ipykernel)",
   "language": "python",
   "name": "python3"
  },
  "language_info": {
   "codemirror_mode": {
    "name": "ipython",
    "version": 3
   },
   "file_extension": ".py",
   "mimetype": "text/x-python",
   "name": "python",
   "nbconvert_exporter": "python",
   "pygments_lexer": "ipython3",
   "version": "3.8.13"
  }
 },
 "nbformat": 4,
 "nbformat_minor": 5
}
