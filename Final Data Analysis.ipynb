{
 "cells": [
  {
   "cell_type": "code",
   "execution_count": null,
   "id": "f96cf355",
   "metadata": {},
   "outputs": [],
   "source": [
    "# import dependencies\n",
    "import pandas as pd\n",
    "import matplotlib.pyplot as plt\n",
    "import numpy as np\n",
    "import scipy.stats as st"
   ]
  },
  {
   "cell_type": "code",
   "execution_count": null,
   "id": "47093d95",
   "metadata": {},
   "outputs": [],
   "source": [
    "# import resources\n",
    "main_df = pd.read_csv(\"Resources/Cleaned Data.csv\")\n",
    "main_df.head()"
   ]
  },
  {
   "cell_type": "code",
   "execution_count": null,
   "id": "7ca508e7",
   "metadata": {},
   "outputs": [],
   "source": [
    "\n",
    "ad_tag_view_counts_df = pd.read_csv(\"Resources/ad_tag_view_counts.csv\")\n",
    "ad_tag_counts_df = pd.read_csv(\"Resources/ad_tag_counts.csv\")\n",
    "\n",
    "ad_tag_view_counts_df"
   ]
  },
  {
   "cell_type": "markdown",
   "id": "eeb39bad",
   "metadata": {},
   "source": [
    "## Pie Charts \n"
   ]
  },
  {
   "cell_type": "code",
   "execution_count": null,
   "id": "d4270640",
   "metadata": {},
   "outputs": [],
   "source": [
    "# count of funny vs not funny by type\n",
    "#funny \n",
    "len(main_df.loc[main_df[\"Funny\"] == True])\n",
    "#not funny\n",
    "len(main_df.loc[main_df[\"Funny\"] == False])"
   ]
  },
  {
   "cell_type": "code",
   "execution_count": null,
   "id": "edc6cd65",
   "metadata": {},
   "outputs": [],
   "source": [
    "# Pie chart showing funny vs not funny by type\n",
    "\n",
    "plt.figure(figsize=(15, 6))\n",
    "#Labels for each slice of the pie chart\n",
    "labels = [\"Funny\", \"Not Funny\"]\n",
    "\n",
    "#Values representing the number of funny and not funny ad videos\n",
    "sizes = [152, 66]\n",
    "\n",
    "#colors for each slice of the pie chart\n",
    "colors = [\"yellow\", \"lightskyblue\"]\n",
    "\n",
    "#funny separated from not funny\n",
    "explode = [0.1, 0]\n",
    "#create pie chart from values\n",
    "plt.pie(sizes, explode=explode, labels=labels, colors=colors,\n",
    "         autopct=\"%1.1f%%\", shadow=True, startangle=90)\n",
    "plt.show\n",
    "\n",
    "\n"
   ]
  },
  {
   "cell_type": "code",
   "execution_count": null,
   "id": "2996daee",
   "metadata": {},
   "outputs": [],
   "source": [
    "# pie chart of funny vs not funny by viewcount\n",
    "\n",
    "\n",
    "plt.figure(figsize=(15,6))\n",
    "#Labels for each slice of the pie chart\n",
    "labels = [\"Funny\", \"Not Funny\"]\n",
    "\n",
    "#Values representing the viewcounts of funny and not funny ad videos\n",
    "sizes = [252042940, 103498750]\n",
    "\n",
    "#colors for each slice of the pie chart\n",
    "colors = [\"green\", \"red\"]\n",
    "\n",
    "#funny separated from not funny\n",
    "explode = [0.1, 0]\n",
    "#create pie chart from values\n",
    "plt.pie(sizes, explode=explode, labels=labels, colors=colors,\n",
    "         autopct=\"%1.1f%%\", shadow=True, startangle=90)\n",
    "plt.show\n",
    "\n",
    "\n",
    "\n",
    "\n"
   ]
  },
  {
   "cell_type": "code",
   "execution_count": null,
   "id": "b683f698",
   "metadata": {},
   "outputs": [],
   "source": []
  }
 ],
 "metadata": {
  "kernelspec": {
   "display_name": "Python 3 (ipykernel)",
   "language": "python",
   "name": "python3"
  },
  "language_info": {
   "codemirror_mode": {
    "name": "ipython",
    "version": 3
   },
   "file_extension": ".py",
   "mimetype": "text/x-python",
   "name": "python",
   "nbconvert_exporter": "python",
   "pygments_lexer": "ipython3",
   "version": "3.8.13"
  }
 },
 "nbformat": 4,
 "nbformat_minor": 5
}
