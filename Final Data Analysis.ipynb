{
 "cells": [
  {
   "cell_type": "code",
   "execution_count": null,
   "id": "f96cf355",
   "metadata": {},
   "outputs": [],
   "source": [
    "# import dependencies\n",
    "import pandas as pd\n",
    "import matplotlib.pyplot as plt\n",
    "import numpy as np\n",
    "import scipy.stats as st"
   ]
  },
  {
   "cell_type": "code",
   "execution_count": null,
   "id": "7ca508e7",
   "metadata": {},
   "outputs": [],
   "source": [
    "# import resources\n",
    "main_df = pd.read_csv(\"Resources/Cleaned Data.csv\")\n",
    "ad_tag_view_counts_df = pd.read_csv(\"Resources/ad_tag_view_counts.csv\")\n",
    "ad_tag_counts_df = pd.read_csv(\"Resources/ad_tag_counts.csv\")"
   ]
  },
  {
   "cell_type": "markdown",
   "id": "45548eb5",
   "metadata": {},
   "source": [
    "# Hypothesis Test\n",
    "\n",
    "###### Hypothesis\n",
    "Ads that contain the tag 'Funny' would receive more views on YouTube.\n",
    "\n",
    "###### Null Hypothesis\n",
    "There is no statistically significant difference in view counts between ads that contain the 'Funny' tag and those that do not contain the 'Funny' tag.\n",
    "\n",
    "###### Results\n",
    "Because the calculated P-Value is exactly zero, we reject the null hypothesis."
   ]
  },
  {
   "cell_type": "code",
   "execution_count": null,
   "id": "73e86b3f",
   "metadata": {},
   "outputs": [],
   "source": [
    "# extract the relevant data from the main DataFrame\n",
    "funnySeries = main_df.loc[main_df[\"Funny\"] == True, :][\"View Counts\"]\n",
    "unfunnySeries = main_df.loc[main_df[\"Funny\"] == False, :][\"View Counts\"]"
   ]
  },
  {
   "cell_type": "code",
   "execution_count": null,
   "id": "6ab0811d",
   "metadata": {},
   "outputs": [],
   "source": [
    "# construct the hypothesis test series\n",
    "csSeries = pd.Series(data = [sum(funnySeries), sum(unfunnySeries)], name = \"observed\")"
   ]
  },
  {
   "cell_type": "code",
   "execution_count": null,
   "id": "b3829a64",
   "metadata": {},
   "outputs": [],
   "source": [
    "# perform a Chi-Squared test because this is comparing categorical data\n",
    "pValue = st.chisquare(csSeries)[1]\n",
    "\n",
    "# display the p-value\n",
    "print(f\"P-Value = {pValue:,.10f}\")"
   ]
  },
  {
   "cell_type": "markdown",
   "id": "b1f0ec44",
   "metadata": {},
   "source": [
    "### Batch Hypothesis Tests"
   ]
  },
  {
   "cell_type": "code",
   "execution_count": null,
   "id": "1a2ade91",
   "metadata": {},
   "outputs": [],
   "source": [
    "# construct list of ad categories\n",
    "categories = [\"Funny\", \"Shows Product Quickly\", \"Celebrity\", \"Danger\", \"Animals\", \"Use Sex\"]\n",
    "\n",
    "# declare the p-value lists\n",
    "chi_square_pvalues = []\n",
    "student_ttest_pvalues = []\n",
    "mannwhitneyu_pvalues = []\n",
    "\n",
    "# declare the summary statistics lists\n",
    "maxTrue_list = []\n",
    "minTrue_list = []\n",
    "sumTrue_list = []\n",
    "meanTrue_list = []\n",
    "medianTrue_list = []\n",
    "maxFalse_list = []\n",
    "minFalse_list = []\n",
    "sumFalse_list = []\n",
    "meanFalse_list = []\n",
    "medianFalse_list = []\n",
    "\n",
    "# iterate through the ad categories\n",
    "for category in categories:\n",
    "    \n",
    "    # extract the series\n",
    "    whenTrue = main_df.loc[main_df[category] == True, :][\"View Counts\"]\n",
    "    whenFalse = main_df.loc[main_df[category] == False, :][\"View Counts\"]\n",
    "    \n",
    "    # construct the Chi Square observed series\n",
    "    observed = pd.Series(data = [sum(whenTrue), sum(whenFalse)], name = \"observed\")\n",
    "    \n",
    "    # calculate the P-Value with a Chi Square Test\n",
    "    chi_square_pvalues.append(st.chisquare(observed)[1])\n",
    "    \n",
    "    # calculate the P-Value with a Student T-Test\n",
    "    student_ttest_pvalues.append(st.ttest_ind(whenFalse, whenTrue)[1])\n",
    "    \n",
    "    # calculate the P-Value with a Mann-Whitney U Test\n",
    "    mannwhitneyu_pvalues\n",
    "    \n",
    "    # calculate the summary statistics\n",
    "    maxTrue_list.append(max(whenTrue))\n",
    "    minTrue_list.append(min(whenTrue))\n",
    "    sumTrue_list.append(sum(whenTrue))\n",
    "    meanTrue_list.append(whenTrue.mean())\n",
    "    medianTrue_list.append(whenTrue.median())\n",
    "    maxFalse_list.append(max(whenFalse))\n",
    "    minFalse_list.append(min(whenFalse))\n",
    "    sumFalse_list.append(sum(whenFalse))\n",
    "    meanFalse_list.append(whenFalse.mean())\n",
    "    medianFalse_list.append(whenFalse.median())"
   ]
  },
  {
   "cell_type": "code",
   "execution_count": null,
   "id": "db9c9ada",
   "metadata": {},
   "outputs": [],
   "source": [
    "# create a DataFrame from the results and transpose it\n",
    "pvalues_df = pd.DataFrame({\n",
    "                    \"Tag\": categories,\n",
    "                    \"Chi Square\": [f\"{member:,.4f}\" for member in chi_square_pvalues],\n",
    "                    \"Student T-Test\": [f\"{member:,.4f}\" for member in student_ttest_pvalues],\n",
    "                    \"Max (True)\": [f\"{member:,.0f}\" for member in maxTrue_list],\n",
    "                    \"Max (False)\": [f\"{member:,.0f}\" for member in maxFalse_list],\n",
    "                    \"Min (True)\": [f\"{member:,.0f}\" for member in minTrue_list],\n",
    "                    \"Min (False)\": [f\"{member:,.0f}\" for member in minFalse_list],\n",
    "                    \"Sum (True)\": [f\"{member:,.0f}\" for member in sumTrue_list],\n",
    "                    \"Sum (False)\": [f\"{member:,.0f}\" for member in sumFalse_list],\n",
    "                    \"Mean (True)\": [f\"{member:,.0f}\" for member in meanTrue_list],\n",
    "                    \"Mean (False)\": [f\"{member:,.0f}\" for member in meanFalse_list],\n",
    "                    \"Median (True)\": [f\"{member:,.0f}\" for member in medianTrue_list],\n",
    "                    \"Median (False)\": [f\"{member:,.0f}\" for member in medianFalse_list]}).T\n",
    "\n",
    "# set the column headers to the tags\n",
    "pvalues_df.columns = pvalues_df.iloc[0, :]\n",
    "\n",
    "# remove the tags row\n",
    "pvalues_df = pvalues_df.iloc[1:, :]\n",
    "\n",
    "# display the DataFrame\n",
    "pvalues_df"
   ]
  },
  {
   "cell_type": "code",
   "execution_count": null,
   "id": "c0d4a59e",
   "metadata": {},
   "outputs": [],
   "source": []
  }
 ],
 "metadata": {
  "kernelspec": {
   "display_name": "Python 3 (ipykernel)",
   "language": "python",
   "name": "python3"
  },
  "language_info": {
   "codemirror_mode": {
    "name": "ipython",
    "version": 3
   },
   "file_extension": ".py",
   "mimetype": "text/x-python",
   "name": "python",
   "nbconvert_exporter": "python",
   "pygments_lexer": "ipython3",
   "version": "3.8.13"
  }
 },
 "nbformat": 4,
 "nbformat_minor": 5
}
